{
 "cells": [
  {
   "cell_type": "code",
   "execution_count": 1,
   "metadata": {},
   "outputs": [],
   "source": [
    "import torch\n",
    "import torchvision\n",
    "import torchvision.transforms as transforms"
   ]
  },
  {
   "cell_type": "code",
   "execution_count": 2,
   "metadata": {},
   "outputs": [
    {
     "name": "stdout",
     "output_type": "stream",
     "text": [
      "Files already downloaded and verified\n",
      "Files already downloaded and verified\n"
     ]
    }
   ],
   "source": [
    "transform = transforms.Compose(\n",
    "    [transforms.ToTensor(),\n",
    "     transforms.Normalize((0.5, 0.5, 0.5), (0.5, 0.5, 0.5))])\n",
    "\n",
    "batch_size = 4\n",
    "\n",
    "trainset = torchvision.datasets.CIFAR10(root='./data', train=True,\n",
    "                                        download=True, transform=transform)\n",
    "trainloader = torch.utils.data.DataLoader(trainset, batch_size=batch_size,\n",
    "                                          shuffle=True, num_workers=2)\n",
    "\n",
    "testset = torchvision.datasets.CIFAR10(root='./data', train=False,\n",
    "                                       download=True, transform=transform)\n",
    "testloader = torch.utils.data.DataLoader(testset, batch_size=batch_size,\n",
    "                                         shuffle=False, num_workers=2)\n",
    "\n",
    "classes = ('plane', 'car', 'bird', 'cat',\n",
    "           'deer', 'dog', 'frog', 'horse', 'ship', 'truck')"
   ]
  },
  {
   "cell_type": "code",
   "execution_count": 3,
   "metadata": {},
   "outputs": [],
   "source": [
    "import torch.nn as nn\n",
    "import torch.nn.functional as F\n",
    "\n",
    "\n",
    "class Net(nn.Module):\n",
    "    def __init__(self):\n",
    "        super().__init__()\n",
    "        self.conv1 = nn.Conv2d(3, 6, 5)\n",
    "        self.pool = nn.MaxPool2d(2, 2)\n",
    "        self.conv2 = nn.Conv2d(6, 16, 5)\n",
    "        self.fc1 = nn.Linear(16 * 5 * 5, 120)\n",
    "        self.fc2 = nn.Linear(120, 84)\n",
    "        self.fc3 = nn.Linear(84, 10)\n",
    "\n",
    "    def forward(self, x):\n",
    "        x = self.pool(F.relu(self.conv1(x)))\n",
    "        x = self.pool(F.relu(self.conv2(x)))\n",
    "        x = torch.flatten(x, 1) # flatten all dimensions except batch\n",
    "        x = F.relu(self.fc1(x))\n",
    "        x = F.relu(self.fc2(x))\n",
    "        x = self.fc3(x)\n",
    "        return x\n",
    "\n",
    "\n",
    "net = Net()"
   ]
  },
  {
   "cell_type": "code",
   "execution_count": 4,
   "metadata": {},
   "outputs": [],
   "source": [
    "import torch.optim as optim\n",
    "\n",
    "criterion = nn.CrossEntropyLoss()\n",
    "optimizer = optim.SGD(net.parameters(), lr=0.001, momentum=0.9)"
   ]
  },
  {
   "cell_type": "code",
   "execution_count": 5,
   "metadata": {},
   "outputs": [
    {
     "name": "stdout",
     "output_type": "stream",
     "text": [
      "[1,  2000] loss: 2.227\n",
      "[1,  4000] loss: 1.884\n",
      "[1,  6000] loss: 1.718\n",
      "[1,  8000] loss: 1.606\n",
      "[1, 10000] loss: 1.532\n",
      "[1, 12000] loss: 1.505\n",
      "[2,  2000] loss: 1.432\n",
      "[2,  4000] loss: 1.380\n",
      "[2,  6000] loss: 1.367\n",
      "[2,  8000] loss: 1.343\n",
      "[2, 10000] loss: 1.304\n",
      "[2, 12000] loss: 1.316\n",
      "[3,  2000] loss: 1.256\n",
      "[3,  4000] loss: 1.254\n",
      "[3,  6000] loss: 1.225\n",
      "[3,  8000] loss: 1.202\n",
      "[3, 10000] loss: 1.212\n",
      "[3, 12000] loss: 1.205\n",
      "[4,  2000] loss: 1.140\n",
      "[4,  4000] loss: 1.127\n",
      "[4,  6000] loss: 1.144\n",
      "[4,  8000] loss: 1.143\n",
      "[4, 10000] loss: 1.131\n",
      "[4, 12000] loss: 1.146\n",
      "[5,  2000] loss: 1.057\n",
      "[5,  4000] loss: 1.060\n",
      "[5,  6000] loss: 1.064\n",
      "[5,  8000] loss: 1.088\n",
      "[5, 10000] loss: 1.068\n",
      "[5, 12000] loss: 1.069\n",
      "[6,  2000] loss: 1.006\n",
      "[6,  4000] loss: 0.998\n",
      "[6,  6000] loss: 1.014\n",
      "[6,  8000] loss: 1.005\n",
      "[6, 10000] loss: 1.029\n",
      "[6, 12000] loss: 1.023\n",
      "[7,  2000] loss: 0.938\n",
      "[7,  4000] loss: 0.941\n",
      "[7,  6000] loss: 0.957\n",
      "[7,  8000] loss: 0.981\n",
      "[7, 10000] loss: 0.986\n",
      "[7, 12000] loss: 0.991\n",
      "[8,  2000] loss: 0.900\n",
      "[8,  4000] loss: 0.918\n",
      "[8,  6000] loss: 0.924\n",
      "[8,  8000] loss: 0.927\n",
      "[8, 10000] loss: 0.938\n",
      "[8, 12000] loss: 0.939\n",
      "[9,  2000] loss: 0.846\n",
      "[9,  4000] loss: 0.876\n",
      "[9,  6000] loss: 0.902\n",
      "[9,  8000] loss: 0.891\n",
      "[9, 10000] loss: 0.916\n",
      "[9, 12000] loss: 0.912\n",
      "[10,  2000] loss: 0.840\n",
      "[10,  4000] loss: 0.816\n",
      "[10,  6000] loss: 0.877\n",
      "[10,  8000] loss: 0.880\n",
      "[10, 10000] loss: 0.867\n",
      "[10, 12000] loss: 0.882\n",
      "Finished Training\n"
     ]
    }
   ],
   "source": [
    "for epoch in range(10):  # loop over the dataset multiple times\n",
    "\n",
    "    running_loss = 0.0\n",
    "    for i, data in enumerate(trainloader, 0):\n",
    "        # get the inputs; data is a list of [inputs, labels]\n",
    "        inputs, labels = data\n",
    "\n",
    "        # zero the parameter gradients\n",
    "        optimizer.zero_grad()\n",
    "\n",
    "        # forward + backward + optimize\n",
    "        outputs = net(inputs)\n",
    "        loss = criterion(outputs, labels)\n",
    "        loss.backward()\n",
    "        optimizer.step()\n",
    "\n",
    "        # print statistics\n",
    "        running_loss += loss.item()\n",
    "        if i % 2000 == 1999:    # print every 2000 mini-batches\n",
    "            print(f'[{epoch + 1}, {i + 1:5d}] loss: {running_loss / 2000:.3f}')\n",
    "            running_loss = 0.0\n",
    "\n",
    "print('Finished Training')"
   ]
  },
  {
   "cell_type": "code",
   "execution_count": 6,
   "metadata": {},
   "outputs": [
    {
     "name": "stdout",
     "output_type": "stream",
     "text": [
      "Accuracy of the network on the 10000 test images: 61 %\n"
     ]
    }
   ],
   "source": [
    "correct = 0\n",
    "total = 0\n",
    "# since we're not training, we don't need to calculate the gradients for our outputs\n",
    "with torch.no_grad():\n",
    "    for data in testloader:\n",
    "        images, labels = data\n",
    "        # calculate outputs by running images through the network\n",
    "        outputs = net(images)\n",
    "        # the class with the highest energy is what we choose as prediction\n",
    "        _, predicted = torch.max(outputs.data, 1)\n",
    "        total += labels.size(0)\n",
    "        correct += (predicted == labels).sum().item()\n",
    "\n",
    "print(f'Accuracy of the network on the 10000 test images: {100 * correct // total} %')"
   ]
  }
 ],
 "metadata": {
  "kernelspec": {
   "display_name": "conda-torch",
   "language": "python",
   "name": "python3"
  },
  "language_info": {
   "codemirror_mode": {
    "name": "ipython",
    "version": 3
   },
   "file_extension": ".py",
   "mimetype": "text/x-python",
   "name": "python",
   "nbconvert_exporter": "python",
   "pygments_lexer": "ipython3",
   "version": "3.11.4"
  },
  "orig_nbformat": 4
 },
 "nbformat": 4,
 "nbformat_minor": 2
}
